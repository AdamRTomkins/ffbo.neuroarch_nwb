{
 "cells": [
  {
   "cell_type": "markdown",
   "metadata": {},
   "source": [
    "# Create a Neurodata Without Borders File for the Wild and Mutant drosophila"
   ]
  },
  {
   "cell_type": "code",
   "execution_count": 1,
   "metadata": {},
   "outputs": [],
   "source": [
    "import nwb\n",
    "from nwb import nwb_file\n",
    "from nwb import nwb_utils as utils\n",
    "\n",
    "import neuroarch_nlp\n",
    "\n",
    "import h5py\n",
    "import scipy.io as sio\n",
    "\n"
   ]
  },
  {
   "cell_type": "code",
   "execution_count": 2,
   "metadata": {},
   "outputs": [
    {
     "data": {
      "image/png": "[encoded data removed]",
      "text/plain": [
       "<matplotlib.figure.Figure at 0x7ffa4cc34c10>"
      ]
     },
     "metadata": {},
     "output_type": "display_data"
    }
   ],
   "source": [
    "# Load the two data files\n",
    "\n",
    "mutant_data = sio.loadmat('MutantBG6Data.mat')\n",
    "wild_data = sio.loadmat('MutantBG6Data.mat')\n",
    "\n",
    "# Plot an example trace\n",
    "plt.plot(wild_data['recorded_input']); \n",
    "plt.plot(mutant_data['recorded_input']); \n",
    "plt.show()"
   ]
  },
  {
   "cell_type": "code",
   "execution_count": 3,
   "metadata": {},
   "outputs": [
    {
     "data": {
      "text/plain": [
       "<nwb.h5gate.Dataset at 0x7ffa48ecac10>"
      ]
     },
     "execution_count": 3,
     "metadata": {},
     "output_type": "execute_result"
    }
   ],
   "source": [
    "# Create Basic descriptor\n",
    "\n",
    "settings = {}\n",
    "settings[\"file_name\"] = \"../data/photoreceptor_data.nwb\"\n",
    "settings[\"identifier\"] = utils.create_identifier(\"BG6\")\n",
    "settings[\"mode\"] = \"w\"\n",
    "settings[\"start_time\"] = \"2011-01-01T00:00:00.604121Z\"\n",
    "settings[\"description\"] = \"A test file using the drosophila photoreceptor data for wild type and histamine defficient flys.\"\n",
    "# specify an extension (Could be more than one).\n",
    "f = nwb_file.open(**settings)\n",
    "\n",
    "f.set_dataset(\"lab\", \"Coca Lab\")\n",
    "f.set_dataset(\"experiment_description\", \"Photoreceptor strimulation with and without histamine transmission\")\n",
    "f.set_dataset(\"experimenter\", \"Uwe\")\n",
    "f.set_dataset(\"institution\", \"The University of Sheffield\")\n",
    "f.set_dataset(\"session_id\", \"0\")\n"
   ]
  },
  {
   "cell_type": "code",
   "execution_count": 4,
   "metadata": {},
   "outputs": [
    {
     "data": {
      "text/plain": [
       "<nwb.h5gate.Dataset at 0x7ffa4943c8d0>"
      ]
     },
     "execution_count": 4,
     "metadata": {},
     "output_type": "execute_result"
    }
   ],
   "source": [
    "# Sample recorded at a rate of 400 samples a second.\n",
    "\n",
    "freq = 1/400.0\n",
    "times = np.arange(0,freq*len(wild_data['recorded_input']),freq)\n",
    "\n",
    "# Store the recorded input in the stimulus/presentation directory\n",
    "\n",
    "\n",
    "ts = f.make_group(\"<TimeSeries>\", \"recorded_input\",\n",
    "   path=\"/stimulus/presentation\", attrs= {\"source\": \"...\"})\n",
    "\n",
    "ts.set_dataset(\"data\", mutant_data['recorded_input'],\n",
    "   attrs={\"unit\": \"unit used\"}, compress=True )\n",
    "ts.set_dataset(\"timestamps\", times, compress=True)\n",
    "ts.set_dataset(\"num_samples\", len(times))\n",
    "\n",
    "\n"
   ]
  },
  {
   "cell_type": "code",
   "execution_count": 5,
   "metadata": {},
   "outputs": [
    {
     "data": {
      "text/plain": [
       "<nwb.h5gate.Dataset at 0x7ffa4c582690>"
      ]
     },
     "execution_count": 5,
     "metadata": {},
     "output_type": "execute_result"
    }
   ],
   "source": [
    "# Add the wild type data\n",
    "\n",
    "ts = f.make_group(\"<TimeSeries>\", \"wild_output\",\n",
    "   path=\"/acquisition/timeseries\", attrs= {\"source\": \"unknown\"})\n",
    "\n",
    "ts.set_dataset(\"data\", wild_data['recorded_output'],\n",
    "   attrs={\"unit\": \"s\"}, compress=True )\n",
    "\n",
    "ts.set_dataset(\"timestamps\", times, compress=True)\n",
    "ts.set_dataset(\"num_samples\", len(times))\n",
    "\n",
    "\n",
    "\n"
   ]
  },
  {
   "cell_type": "code",
   "execution_count": 6,
   "metadata": {},
   "outputs": [
    {
     "data": {
      "text/plain": [
       "<nwb.h5gate.Dataset at 0x7ffa48eb0990>"
      ]
     },
     "execution_count": 6,
     "metadata": {},
     "output_type": "execute_result"
    }
   ],
   "source": [
    "# Add the mutant type data\n",
    "\n",
    "ts = f.make_group(\"<TimeSeries>\", \"mutant_output\",\n",
    "   path=\"/acquisition/timeseries\", attrs= {\"source\": \"unknown\"})\n",
    "\n",
    "ts.set_dataset(\"data\", mutant_data['recorded_output'],\n",
    "   attrs={\"unit\": \"s\"}, compress=True )\n",
    "\n",
    "ts.set_dataset(\"timestamps\", times, compress=True)\n",
    "ts.set_dataset(\"num_samples\", len(times))"
   ]
  },
  {
   "cell_type": "code",
   "execution_count": 7,
   "metadata": {},
   "outputs": [
    {
     "name": "stdout",
     "output_type": "stream",
     "text": [
      "\n",
      "******\n",
      "Validation messages follow.\n",
      "** No errors. -- Good\n",
      "No Miscellaneous errors. -- Good\n",
      "No groups missing. -- Good\n",
      "No datasets missing. -- Good\n",
      "No attributes missing. -- Good\n",
      "No Incorrect attribute values. -- Good\n",
      "No groups custom missing attribute neurodata_type=Custom. -- Good\n",
      "No datasets custom missing attribute neurodata_type=Custom. -- Good\n",
      "No groups defined in extension, but missing attribute schema_id. -- Good\n",
      "No datasets defined in extension, but missing attribute schema_id. -- Good\n",
      "** 6 warnings.\n",
      "No Miscellaneous warnings. -- Good\n",
      "No groups custom inside custom missing attribute neurodata_type=Custom. -- Good\n",
      "No datasets custom inside custom missing attribute neurodata_type=Custom. -- Good\n",
      "No recommended groups missing. -- Good\n",
      "No recommended datasets missing. -- Good\n",
      "6 recommended attributes missing:\n",
      "  1. /acquisition/timeseries/mutant_output - comments\n",
      "  2. /acquisition/timeseries/mutant_output - description\n",
      "  3. /acquisition/timeseries/wild_output - comments\n",
      "  4. /acquisition/timeseries/wild_output - description\n",
      "  5. /stimulus/presentation/recorded_input - comments\n",
      "  6. /stimulus/presentation/recorded_input - description\n",
      "No recommended attributes empty. -- Good\n",
      "No required_attributes_empty. -- Good\n",
      "No added attributes not described by extension. -- Good\n",
      "** No additions.\n",
      "No groups custom and identified by attribute neurodata_type=Custom.\n",
      "No datasets custom and identified by attribute neurodata_type=Custom.\n",
      "No groups defined by extension and identified by attribute schema_id.\n",
      "No datasets defined by extension and identified by attribute schema_id.\n",
      "No added attributes described by extension.\n",
      "** Summary\n",
      "0 errors, 6 warnings, 0 additions\n",
      "passed validation check (no errors)\n"
     ]
    },
    {
     "data": {
      "text/plain": [
       "{'added': 0, 'errors': 0, 'warnings': 6}"
      ]
     },
     "execution_count": 7,
     "metadata": {},
     "output_type": "execute_result"
    }
   ],
   "source": [
    "f.close()"
   ]
  },
  {
   "cell_type": "code",
   "execution_count": 9,
   "metadata": {},
   "outputs": [],
   "source": [
    "f = h5py.File('../data/photoreceptor_data.nwb')"
   ]
  },
  {
   "cell_type": "code",
   "execution_count": 12,
   "metadata": {},
   "outputs": [
    {
     "data": {
      "text/plain": [
       "[u'experiment_description',\n",
       " u'experimenter',\n",
       " u'institution',\n",
       " u'lab',\n",
       " u'session_id',\n",
       " u'specifications']"
      ]
     },
     "execution_count": 12,
     "metadata": {},
     "output_type": "execute_result"
    }
   ],
   "source": [
    "f['general']"
   ]
  },
  {
   "cell_type": "code",
   "execution_count": 34,
   "metadata": {},
   "outputs": [
    {
     "data": {
      "text/plain": [
       "[u'images', u'timeseries']"
      ]
     },
     "execution_count": 34,
     "metadata": {},
     "output_type": "execute_result"
    }
   ],
   "source": [
    "f['acquisition'].keys()"
   ]
  },
  {
   "cell_type": "code",
   "execution_count": 35,
   "metadata": {},
   "outputs": [
    {
     "data": {
      "text/plain": [
       "<HDF5 group \"/acquisition/timeseries\" (3 members)>"
      ]
     },
     "execution_count": 35,
     "metadata": {},
     "output_type": "execute_result"
    }
   ],
   "source": [
    "f['acquisition']['timeseries']"
   ]
  },
  {
   "cell_type": "code",
   "execution_count": 36,
   "metadata": {},
   "outputs": [
    {
     "data": {
      "text/plain": [
       "[u'mutant_output', u'recorded_input', u'wild_output']"
      ]
     },
     "execution_count": 36,
     "metadata": {},
     "output_type": "execute_result"
    }
   ],
   "source": [
    "f['acquisition']['timeseries'].keys()"
   ]
  },
  {
   "cell_type": "code",
   "execution_count": 37,
   "metadata": {},
   "outputs": [
    {
     "data": {
      "text/plain": [
       "<HDF5 group \"/acquisition/timeseries/recorded_input\" (3 members)>"
      ]
     },
     "execution_count": 37,
     "metadata": {},
     "output_type": "execute_result"
    }
   ],
   "source": [
    "f['acquisition']['timeseries']['recorded_input']"
   ]
  },
  {
   "cell_type": "code",
   "execution_count": 38,
   "metadata": {},
   "outputs": [
    {
     "data": {
      "text/plain": [
       "[u'data', u'num_samples', u'timestamps']"
      ]
     },
     "execution_count": 38,
     "metadata": {},
     "output_type": "execute_result"
    }
   ],
   "source": [
    "f['acquisition']['timeseries']['recorded_input'].keys()"
   ]
  },
  {
   "cell_type": "code",
   "execution_count": 49,
   "metadata": {},
   "outputs": [
    {
     "data": {
      "text/plain": [
       "80000"
      ]
     },
     "execution_count": 49,
     "metadata": {},
     "output_type": "execute_result"
    }
   ],
   "source": [
    "f['acquisition']['timeseries']['recorded_input']['num_samples'][()]"
   ]
  },
  {
   "cell_type": "code",
   "execution_count": 40,
   "metadata": {},
   "outputs": [
    {
     "data": {
      "image/png": "[encoded data removed]",
      "text/plain": [
       "<matplotlib.figure.Figure at 0x7f66a5f2e950>"
      ]
     },
     "metadata": {},
     "output_type": "display_data"
    }
   ],
   "source": [
    "plt.plot(f['acquisition']['timeseries']['recorded_input']['data'][:])\n",
    "plt.show()"
   ]
  },
  {
   "cell_type": "code",
   "execution_count": 41,
   "metadata": {},
   "outputs": [],
   "source": [
    "f.close()"
   ]
  },
  {
   "cell_type": "code",
   "execution_count": null,
   "metadata": {},
   "outputs": [],
   "source": []
  },
  {
   "cell_type": "code",
   "execution_count": null,
   "metadata": {},
   "outputs": [],
   "source": []
  }
 ],
 "metadata": {
  "kernelspec": {
   "display_name": "Python 2",
   "language": "python",
   "name": "python2"
  },
  "language_info": {
   "codemirror_mode": {
    "name": "ipython",
    "version": 2
   },
   "file_extension": ".py",
   "mimetype": "text/x-python",
   "name": "python",
   "nbconvert_exporter": "python",
   "pygments_lexer": "ipython2",
   "version": "2.7.13"
  }
 },
 "nbformat": 4,
 "nbformat_minor": 2
}
