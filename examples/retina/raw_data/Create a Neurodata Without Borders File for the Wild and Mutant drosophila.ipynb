{
 "cells": [
  {
   "cell_type": "markdown",
   "metadata": {},
   "source": [
    "# Create a Neurodata Without Borders File for the Wild and Mutant drosophila"
   ]
  },
  {
   "cell_type": "code",
   "execution_count": 1,
   "metadata": {},
   "outputs": [],
   "source": [
    "import nwb\n",
    "from nwb import nwb_file\n",
    "from nwb import nwb_utils as utils\n",
    "\n",
    "import neuroarch_nlp\n",
    "\n",
    "import h5py\n",
    "import scipy.io as sio\n",
    "\n"
   ]
  },
  {
   "cell_type": "code",
   "execution_count": 2,
   "metadata": {},
   "outputs": [
    {
     "data": {
      "image/png": "[encoded data removed]",
      "text/plain": [
       "<matplotlib.figure.Figure at 0x7f73b98d8a50>"
      ]
     },
     "metadata": {},
     "output_type": "display_data"
    }
   ],
   "source": [
    "# Load the two data files\n",
    "\n",
    "mutant_data = sio.loadmat('MutantBG6Data.mat')\n",
    "wild_data = sio.loadmat('WildBG6Data.mat')\n",
    "\n",
    "# Plot an example trace\n",
    "plt.plot(wild_data['recorded_input']); \n",
    "plt.plot(mutant_data['recorded_input']); \n",
    "plt.show()"
   ]
  },
  {
   "cell_type": "code",
   "execution_count": 3,
   "metadata": {},
   "outputs": [],
   "source": [
    "# Create Basic descriptor\n",
    "\n",
    "settings = {}\n",
    "settings[\"file_name\"] = \"../data/wild_photoreceptor_data.nwb\"\n",
    "settings[\"identifier\"] = utils.create_identifier(\"BG6\")\n",
    "settings[\"mode\"] = \"w\"\n",
    "settings[\"start_time\"] = \"2011-01-01T00:00:00.604121Z\"\n",
    "settings[\"description\"] = \"A test file using the drosophila photoreceptor data for wild type and histamine defficient flys.\"\n",
    "# specify an extension (Could be more than one).\n",
    "wild = nwb_file.open(**settings)\n",
    "\n",
    "settings[\"file_name\"] = \"../data/mutant_photoreceptor_data.nwb\"\n",
    "mutant = nwb_file.open(**settings)\n"
   ]
  },
  {
   "cell_type": "code",
   "execution_count": 4,
   "metadata": {},
   "outputs": [
    {
     "data": {
      "text/plain": [
       "<nwb.h5gate.Dataset at 0x7f73b18d7310>"
      ]
     },
     "execution_count": 4,
     "metadata": {},
     "output_type": "execute_result"
    }
   ],
   "source": [
    "\n",
    "wild.set_dataset(\"lab\", \"Coca Lab\")\n",
    "wild.set_dataset(\"experiment_description\", \"Photoreceptor strimulation with histamine transmission\")\n",
    "wild.set_dataset(\"experimenter\", \"Uwe\")\n",
    "wild.set_dataset(\"institution\", \"The University of Sheffield\")\n",
    "wild.set_dataset(\"session_id\", \"0\")\n",
    "\n",
    "mutant.set_dataset(\"lab\", \"Coca Lab\")\n",
    "mutant.set_dataset(\"experiment_description\", \"Photoreceptor strimulation without histamine transmission\")\n",
    "mutant.set_dataset(\"experimenter\", \"Uwe Friederich\")\n",
    "mutant.set_dataset(\"institution\", \"The University of Sheffield\")\n",
    "mutant.set_dataset(\"session_id\", \"0\")\n"
   ]
  },
  {
   "cell_type": "code",
   "execution_count": 5,
   "metadata": {},
   "outputs": [
    {
     "data": {
      "text/plain": [
       "<nwb.h5gate.Dataset at 0x7f73b8113d10>"
      ]
     },
     "execution_count": 5,
     "metadata": {},
     "output_type": "execute_result"
    }
   ],
   "source": [
    "g = wild.make_group(\"subject\")\n",
    "g.set_dataset(\"genotype\", \"Canton S\")\n",
    "g.set_dataset(\"species\", \"drosophila melongaster\")\n",
    "\n",
    "g = mutant.make_group(\"subject\")\n",
    "g.set_dataset(\"genotype\", \"HDC JF-910\")\n",
    "g.set_dataset(\"species\", \"drosophila melongaster\")"
   ]
  },
  {
   "cell_type": "code",
   "execution_count": 6,
   "metadata": {},
   "outputs": [
    {
     "data": {
      "text/plain": [
       "<nwb.h5gate.Dataset at 0x7f73b1882750>"
      ]
     },
     "execution_count": 6,
     "metadata": {},
     "output_type": "execute_result"
    }
   ],
   "source": [
    "# Sample recorded at a rate of 400 samples a second.\n",
    "\n",
    "freq = 1/400.0\n",
    "times = np.arange(0,freq*len(wild_data['recorded_input']),freq)\n",
    "\n",
    "# Store the recorded input in the stimulus/presentation directory\n",
    "\n",
    "\n",
    "ts = wild.make_group(\"<TimeSeries>\", \"recorded_input\",\n",
    "   path=\"/stimulus/presentation\", attrs= {\"source\": \"...\"})\n",
    "\n",
    "ts.set_dataset(\"data\", wild_data['recorded_input'],\n",
    "   attrs={\"unit\": \"unit used\"}, compress=True )\n",
    "ts.set_dataset(\"timestamps\", times, compress=True)\n",
    "ts.set_dataset(\"num_samples\", len(times))\n",
    "\n",
    "ts = mutant.make_group(\"<TimeSeries>\", \"recorded_input\",\n",
    "   path=\"/stimulus/presentation\", attrs= {\"source\": \"...\"})\n",
    "\n",
    "ts.set_dataset(\"data\", mutant_data['recorded_input'],\n",
    "   attrs={\"unit\": \"unit used\"}, compress=True )\n",
    "ts.set_dataset(\"timestamps\", times, compress=True)\n",
    "ts.set_dataset(\"num_samples\", len(times))\n",
    "\n"
   ]
  },
  {
   "cell_type": "code",
   "execution_count": 7,
   "metadata": {},
   "outputs": [
    {
     "data": {
      "text/plain": [
       "<nwb.h5gate.Dataset at 0x7f73b18d7c90>"
      ]
     },
     "execution_count": 7,
     "metadata": {},
     "output_type": "execute_result"
    }
   ],
   "source": [
    "# Add the wild type data\n",
    "\n",
    "ts = wild.make_group(\"<TimeSeries>\", \"output\",\n",
    "   path=\"/acquisition/timeseries\", attrs= {\"source\": \"unknown\"})\n",
    "\n",
    "ts.set_dataset(\"data\", wild_data['recorded_output'],\n",
    "   attrs={\"unit\": \"s\"}, compress=True )\n",
    "\n",
    "ts.set_dataset(\"timestamps\", times, compress=True)\n",
    "ts.set_dataset(\"num_samples\", len(times))\n",
    "\n",
    "\n",
    "\n"
   ]
  },
  {
   "cell_type": "code",
   "execution_count": 8,
   "metadata": {},
   "outputs": [
    {
     "data": {
      "text/plain": [
       "<nwb.h5gate.Dataset at 0x7f73b80f1f10>"
      ]
     },
     "execution_count": 8,
     "metadata": {},
     "output_type": "execute_result"
    }
   ],
   "source": [
    "# Add the mutant type data\n",
    "\n",
    "ts = mutant.make_group(\"<TimeSeries>\", \"output\",\n",
    "   path=\"/acquisition/timeseries\", attrs= {\"source\": \"unknown\"})\n",
    "\n",
    "ts.set_dataset(\"data\", mutant_data['recorded_output'],\n",
    "   attrs={\"unit\": \"s\"}, compress=True )\n",
    "\n",
    "ts.set_dataset(\"timestamps\", times, compress=True)\n",
    "ts.set_dataset(\"num_samples\", len(times))"
   ]
  },
  {
   "cell_type": "code",
   "execution_count": 9,
   "metadata": {},
   "outputs": [
    {
     "ename": "TypeError",
     "evalue": "'File' object has no attribute '__getitem__'",
     "output_type": "error",
     "traceback": [
      "\u001b[0;31m---------------------------------------------------------------------------\u001b[0m",
      "\u001b[0;31mTypeError\u001b[0m                                 Traceback (most recent call last)",
      "\u001b[0;32m<ipython-input-9-7e535ceb2f00>\u001b[0m in \u001b[0;36m<module>\u001b[0;34m()\u001b[0m\n\u001b[0;32m----> 1\u001b[0;31m \u001b[0mwild\u001b[0m\u001b[0;34m[\u001b[0m\u001b[0;34m'subject'\u001b[0m\u001b[0;34m]\u001b[0m\u001b[0;34m\u001b[0m\u001b[0m\n\u001b[0m",
      "\u001b[0;31mTypeError\u001b[0m: 'File' object has no attribute '__getitem__'"
     ]
    }
   ],
   "source": [
    "wild['subject']"
   ]
  },
  {
   "cell_type": "code",
   "execution_count": 10,
   "metadata": {},
   "outputs": [
    {
     "name": "stdout",
     "output_type": "stream",
     "text": [
      "\n",
      "******\n",
      "Validation messages follow.\n",
      "** No errors. -- Good\n",
      "No Miscellaneous errors. -- Good\n",
      "No groups missing. -- Good\n",
      "No datasets missing. -- Good\n",
      "No attributes missing. -- Good\n",
      "No Incorrect attribute values. -- Good\n",
      "No groups custom missing attribute neurodata_type=Custom. -- Good\n",
      "No datasets custom missing attribute neurodata_type=Custom. -- Good\n",
      "No groups defined in extension, but missing attribute schema_id. -- Good\n",
      "No datasets defined in extension, but missing attribute schema_id. -- Good\n",
      "** 4 warnings.\n",
      "No Miscellaneous warnings. -- Good\n",
      "No groups custom inside custom missing attribute neurodata_type=Custom. -- Good\n",
      "No datasets custom inside custom missing attribute neurodata_type=Custom. -- Good\n",
      "No recommended groups missing. -- Good\n",
      "No recommended datasets missing. -- Good\n",
      "4 recommended attributes missing:\n",
      "  1. /acquisition/timeseries/output - comments\n",
      "  2. /acquisition/timeseries/output - description\n",
      "  3. /stimulus/presentation/recorded_input - comments\n",
      "  4. /stimulus/presentation/recorded_input - description\n",
      "No recommended attributes empty. -- Good\n",
      "No required_attributes_empty. -- Good\n",
      "No added attributes not described by extension. -- Good\n",
      "** No additions.\n",
      "No groups custom and identified by attribute neurodata_type=Custom.\n",
      "No datasets custom and identified by attribute neurodata_type=Custom.\n",
      "No groups defined by extension and identified by attribute schema_id.\n",
      "No datasets defined by extension and identified by attribute schema_id.\n",
      "No added attributes described by extension.\n",
      "** Summary\n",
      "0 errors, 4 warnings, 0 additions\n",
      "passed validation check (no errors)\n",
      "\n",
      "******\n",
      "Validation messages follow.\n",
      "** No errors. -- Good\n",
      "No Miscellaneous errors. -- Good\n",
      "No groups missing. -- Good\n",
      "No datasets missing. -- Good\n",
      "No attributes missing. -- Good\n",
      "No Incorrect attribute values. -- Good\n",
      "No groups custom missing attribute neurodata_type=Custom. -- Good\n",
      "No datasets custom missing attribute neurodata_type=Custom. -- Good\n",
      "No groups defined in extension, but missing attribute schema_id. -- Good\n",
      "No datasets defined in extension, but missing attribute schema_id. -- Good\n",
      "** 4 warnings.\n",
      "No Miscellaneous warnings. -- Good\n",
      "No groups custom inside custom missing attribute neurodata_type=Custom. -- Good\n",
      "No datasets custom inside custom missing attribute neurodata_type=Custom. -- Good\n",
      "No recommended groups missing. -- Good\n",
      "No recommended datasets missing. -- Good\n",
      "4 recommended attributes missing:\n",
      "  1. /acquisition/timeseries/output - comments\n",
      "  2. /acquisition/timeseries/output - description\n",
      "  3. /stimulus/presentation/recorded_input - comments\n",
      "  4. /stimulus/presentation/recorded_input - description\n",
      "No recommended attributes empty. -- Good\n",
      "No required_attributes_empty. -- Good\n",
      "No added attributes not described by extension. -- Good\n",
      "** No additions.\n",
      "No groups custom and identified by attribute neurodata_type=Custom.\n",
      "No datasets custom and identified by attribute neurodata_type=Custom.\n",
      "No groups defined by extension and identified by attribute schema_id.\n",
      "No datasets defined by extension and identified by attribute schema_id.\n",
      "No added attributes described by extension.\n",
      "** Summary\n",
      "0 errors, 4 warnings, 0 additions\n",
      "passed validation check (no errors)\n"
     ]
    },
    {
     "data": {
      "text/plain": [
       "{'added': 0, 'errors': 0, 'warnings': 4}"
      ]
     },
     "execution_count": 10,
     "metadata": {},
     "output_type": "execute_result"
    }
   ],
   "source": [
    "wild.close()\n",
    "mutant.close()"
   ]
  },
  {
   "cell_type": "code",
   "execution_count": 11,
   "metadata": {},
   "outputs": [
    {
     "data": {
      "image/png": "[encoded data removed]",
      "text/plain": [
       "<matplotlib.figure.Figure at 0x7f73b1cfded0>"
      ]
     },
     "metadata": {},
     "output_type": "display_data"
    }
   ],
   "source": [
    "wild = h5py.File('../data/wild_photoreceptor_data.nwb')\n",
    "plt.plot(wild['acquisition']['timeseries']['output']['data'][:])\n",
    "plt.plot(wild['stimulus']['presentation']['recorded_input']['data'][:])\n",
    "plt.show()\n",
    "wild.close()"
   ]
  },
  {
   "cell_type": "code",
   "execution_count": 12,
   "metadata": {},
   "outputs": [],
   "source": [
    "mutant = h5py.File('../data/mutant_photoreceptor_data.nwb')"
   ]
  },
  {
   "cell_type": "code",
   "execution_count": 13,
   "metadata": {},
   "outputs": [
    {
     "data": {
      "image/png": "[encoded data removed]",
      "text/plain": [
       "<matplotlib.figure.Figure at 0x7f73b1cfdf90>"
      ]
     },
     "metadata": {},
     "output_type": "display_data"
    }
   ],
   "source": [
    "plt.plot(mutant['acquisition']['timeseries']['output']['data'][:])\n",
    "plt.plot(mutant['stimulus']['presentation']['recorded_input']['data'][:])\n",
    "plt.show()"
   ]
  },
  {
   "cell_type": "code",
   "execution_count": null,
   "metadata": {},
   "outputs": [],
   "source": []
  },
  {
   "cell_type": "code",
   "execution_count": null,
   "metadata": {},
   "outputs": [],
   "source": []
  }
 ],
 "metadata": {
  "kernelspec": {
   "display_name": "Python 2",
   "language": "python",
   "name": "python2"
  },
  "language_info": {
   "codemirror_mode": {
    "name": "ipython",
    "version": 2
   },
   "file_extension": ".py",
   "mimetype": "text/x-python",
   "name": "python",
   "nbconvert_exporter": "python",
   "pygments_lexer": "ipython2",
   "version": "2.7.13"
  }
 },
 "nbformat": 4,
 "nbformat_minor": 2
}
