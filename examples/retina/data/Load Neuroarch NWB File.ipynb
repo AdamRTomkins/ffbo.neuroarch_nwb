{
 "cells": [
  {
   "cell_type": "code",
   "execution_count": 1,
   "metadata": {},
   "outputs": [],
   "source": [
    "from neuroarch_nwb.na_nwb import NWB_file, NWB_dataset"
   ]
  },
  {
   "cell_type": "code",
   "execution_count": 6,
   "metadata": {},
   "outputs": [
    {
     "name": "stdout",
     "output_type": "stream",
     "text": [
      "Reading 14 groups and 20 datasets\n",
      "\n",
      "******\n",
      "Validation messages follow.\n",
      "** No errors. -- Good\n",
      "No Miscellaneous errors. -- Good\n",
      "No groups missing. -- Good\n",
      "No datasets missing. -- Good\n",
      "No attributes missing. -- Good\n",
      "No Incorrect attribute values. -- Good\n",
      "No groups custom missing attribute neurodata_type=Custom. -- Good\n",
      "No datasets custom missing attribute neurodata_type=Custom. -- Good\n",
      "No groups defined in extension, but missing attribute schema_id. -- Good\n",
      "No datasets defined in extension, but missing attribute schema_id. -- Good\n",
      "** 6 warnings.\n",
      "No Miscellaneous warnings. -- Good\n",
      "No groups custom inside custom missing attribute neurodata_type=Custom. -- Good\n",
      "No datasets custom inside custom missing attribute neurodata_type=Custom. -- Good\n",
      "No recommended groups missing. -- Good\n",
      "No recommended datasets missing. -- Good\n",
      "6 recommended attributes missing:\n",
      "  1. /acquisition/timeseries/mutant_output - comments\n",
      "  2. /acquisition/timeseries/mutant_output - description\n",
      "  3. /acquisition/timeseries/wild_output - comments\n",
      "  4. /acquisition/timeseries/wild_output - description\n",
      "  5. /stimulus/presentation/recorded_input - comments\n",
      "  6. /stimulus/presentation/recorded_input - description\n",
      "No recommended attributes empty. -- Good\n",
      "No required_attributes_empty. -- Good\n",
      "No added attributes not described by extension. -- Good\n",
      "** No additions.\n",
      "No groups custom and identified by attribute neurodata_type=Custom.\n",
      "No datasets custom and identified by attribute neurodata_type=Custom.\n",
      "No groups defined by extension and identified by attribute schema_id.\n",
      "No datasets defined by extension and identified by attribute schema_id.\n",
      "No added attributes described by extension.\n",
      "** Summary\n",
      "0 errors, 6 warnings, 0 additions\n",
      "passed validation check (no errors)\n"
     ]
    }
   ],
   "source": [
    "# Load a NWB file and validate the file against the NWB specifications\n",
    "n = NWB_file('photoreceptor_data.nwb', validate=True)\n",
    "# x = n.validate_nwb_file()"
   ]
  },
  {
   "cell_type": "code",
   "execution_count": 19,
   "metadata": {},
   "outputs": [
    {
     "name": "stdout",
     "output_type": "stream",
     "text": [
      "session_id : 0\n",
      "experimenter : Uve\n",
      "experiment_description : Photoreceptor strimulation with and without histamine transmission\n",
      "institution : The University of Sheffield\n",
      "lab : Coca Lab\n"
     ]
    }
   ],
   "source": [
    "#for m in n.get_metadata().keys(): print \"%s : %s \\n\" % (m,n[m])\n",
    "meta_data = n.get_metadata()\n",
    "\n",
    "for k in meta_data:  print \"%s : %s\" % (k,meta_data[k])"
   ]
  },
  {
   "cell_type": "code",
   "execution_count": 21,
   "metadata": {},
   "outputs": [],
   "source": [
    "# Create a dataset from a path\n",
    "dataset = n.get_dataset_from_path('/acquisition/timeseries/mutant_output')   # Mutant Output\n",
    "dataset = n.get_dataset_from_path('/acquisition/timeseries/wild_output')     # Wild Output\n",
    "dataset = n.get_dataset_from_path('/stimulus/presentation/recorded_input')   # Stimulus input"
   ]
  },
  {
   "cell_type": "code",
   "execution_count": 23,
   "metadata": {},
   "outputs": [
    {
     "data": {
      "image/png": "[encoded data removed]",
      "text/plain": [
       "<matplotlib.figure.Figure at 0x7f87166fbad0>"
      ]
     },
     "metadata": {},
     "output_type": "display_data"
    }
   ],
   "source": [
    "# Retrieve and plot a down samples data\n",
    "ds = dataset.get_data_downsampled()\n",
    "plt.plot(ds['timestamps'],ds['data'])\n",
    "plt.show()"
   ]
  },
  {
   "cell_type": "code",
   "execution_count": 24,
   "metadata": {},
   "outputs": [
    {
     "data": {
      "image/png": "[encoded data removed]",
      "text/plain": [
       "<matplotlib.figure.Figure at 0x7f87144a2050>"
      ]
     },
     "metadata": {},
     "output_type": "display_data"
    }
   ],
   "source": [
    "# Retrieve the full slice of data used to train the narx model\n",
    "ds = dataset.get_data_slice(36000,4000)\n",
    "plt.plot(ds['timestamps'],ds['data'])\n",
    "plt.show()"
   ]
  }
 ],
 "metadata": {
  "kernelspec": {
   "display_name": "Python 2",
   "language": "python",
   "name": "python2"
  },
  "language_info": {
   "codemirror_mode": {
    "name": "ipython",
    "version": 2
   },
   "file_extension": ".py",
   "mimetype": "text/x-python",
   "name": "python",
   "nbconvert_exporter": "python",
   "pygments_lexer": "ipython2",
   "version": "2.7.13"
  }
 },
 "nbformat": 4,
 "nbformat_minor": 2
}
